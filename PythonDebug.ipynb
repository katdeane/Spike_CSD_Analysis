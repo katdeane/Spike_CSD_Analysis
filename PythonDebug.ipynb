{
 "cells": [
  {
   "cell_type": "code",
   "execution_count": null,
   "metadata": {},
   "outputs": [],
   "source": []
  },
  {
   "cell_type": "code",
   "execution_count": 46,
   "metadata": {},
   "outputs": [],
   "source": [
    "from pathlib import Path\n",
    "\n",
    "import numpy as np\n",
    "import tqdm\n",
    "from radiens.utils.enums import SignalType\n",
    "from radiens.utils.util import dset_to_ntv_dict, make_time_range\n",
    "from radiens.videre_client import VidereClient\n",
    "from scipy.io import savemat\n",
    "\n",
    "names = [ \"MKO02_07\"]"
   ]
  },
  {
   "cell_type": "code",
   "execution_count": 51,
   "metadata": {},
   "outputs": [
    {
     "name": "stdout",
     "output_type": "stream",
     "text": [
      "Getting spikes from file MKO02_07_Spikes with time range 2972.855466666667 - 3405.1498666666666 seconds\n"
     ]
    },
    {
     "ename": "RpcException",
     "evalue": "Unknown error: spikesort_manager/GetSpikesort - unknown spikesortID: MKO02_07_Spikes_s1. Error code: 2",
     "output_type": "error",
     "traceback": [
      "\u001b[0;31m---------------------------------------------------------------------------\u001b[0m",
      "\u001b[0;31mRpcException\u001b[0m                              Traceback (most recent call last)",
      "Cell \u001b[0;32mIn[51], line 40\u001b[0m\n\u001b[1;32m     37\u001b[0m file_pos_sec \u001b[38;5;241m+\u001b[39m\u001b[38;5;241m=\u001b[39m chunk_size_sec\n\u001b[1;32m     39\u001b[0m \u001b[38;5;66;03m# get spikes\u001b[39;00m\n\u001b[0;32m---> 40\u001b[0m spike_timestamps \u001b[38;5;241m=\u001b[39m \u001b[43mvc\u001b[49m\u001b[38;5;241;43m.\u001b[39;49m\u001b[43mspikes\u001b[49m\u001b[43m(\u001b[49m\u001b[43m)\u001b[49m\u001b[38;5;241;43m.\u001b[39;49m\u001b[43mget_spike_timestamps\u001b[49m\u001b[43m(\u001b[49m\n\u001b[1;32m     41\u001b[0m \u001b[43m    \u001b[49m\u001b[43mspike_data_bname\u001b[49m\u001b[43m,\u001b[49m\u001b[43m \u001b[49m\u001b[43mtime_range\u001b[49m\u001b[38;5;241;43m=\u001b[39;49m\u001b[43mtr\u001b[49m\u001b[43m)\u001b[49m\n\u001b[1;32m     43\u001b[0m \u001b[38;5;66;03m# timestamps\u001b[39;00m\n\u001b[1;32m     44\u001b[0m ts_sec \u001b[38;5;241m=\u001b[39m np\u001b[38;5;241m.\u001b[39marray(\u001b[38;5;28mlist\u001b[39m(\u001b[38;5;28mmap\u001b[39m(\u001b[38;5;28;01mlambda\u001b[39;00m x: x\u001b[38;5;241m/\u001b[39mcont_meta\u001b[38;5;241m.\u001b[39mTR\u001b[38;5;241m.\u001b[39mfs,\n\u001b[1;32m     45\u001b[0m                     spike_timestamps[\u001b[38;5;124m\"\u001b[39m\u001b[38;5;124mtimestamps\u001b[39m\u001b[38;5;124m\"\u001b[39m])), dtype\u001b[38;5;241m=\u001b[39mnp\u001b[38;5;241m.\u001b[39mfloat64)  \u001b[38;5;66;03m# convert to seconds\u001b[39;00m\n",
      "File \u001b[0;32m~/Documents/GitHub/Spike_CSD_Analysis/.venv/lib/python3.12/site-packages/radiens/spikes_client.py:132\u001b[0m, in \u001b[0;36mSpikesClient.get_spike_timestamps\u001b[0;34m(self, dataset_id, time_range, hub_name)\u001b[0m\n\u001b[1;32m    120\u001b[0m \u001b[38;5;28;01mdef\u001b[39;00m \u001b[38;5;21mget_spike_timestamps\u001b[39m(\u001b[38;5;28mself\u001b[39m, dataset_id: \u001b[38;5;28mstr\u001b[39m, time_range:  TimeRange, hub_name\u001b[38;5;241m=\u001b[39mDEFAULT_HUB_ID):\n\u001b[1;32m    121\u001b[0m \u001b[38;5;250m    \u001b[39m\u001b[38;5;124;03m\"\"\"\u001b[39;00m\n\u001b[1;32m    122\u001b[0m \u001b[38;5;124;03m    Gets spike timestamps for specified time range of a spikes file\u001b[39;00m\n\u001b[1;32m    123\u001b[0m \n\u001b[0;32m   (...)\u001b[0m\n\u001b[1;32m    130\u001b[0m \n\u001b[1;32m    131\u001b[0m \u001b[38;5;124;03m    \"\"\"\u001b[39;00m\n\u001b[0;32m--> 132\u001b[0m     \u001b[38;5;28;01mreturn\u001b[39;00m \u001b[43mapi_videre\u001b[49m\u001b[38;5;241;43m.\u001b[39;49m\u001b[43mget_spikes_timestamps\u001b[49m\u001b[43m(\u001b[49m\n\u001b[1;32m    133\u001b[0m \u001b[43m        \u001b[49m\u001b[38;5;28;43mself\u001b[39;49m\u001b[38;5;241;43m.\u001b[39;49m\u001b[43m__parent\u001b[49m\u001b[38;5;241;43m.\u001b[39;49m\u001b[43m_server_address\u001b[49m\u001b[43m(\u001b[49m\u001b[43mhub_name\u001b[49m\u001b[43m,\u001b[49m\u001b[43m \u001b[49m\u001b[43mRadiensService\u001b[49m\u001b[38;5;241;43m.\u001b[39;49m\u001b[43mCORE\u001b[49m\u001b[43m)\u001b[49m\u001b[43m,\u001b[49m\n\u001b[1;32m    134\u001b[0m \u001b[43m        \u001b[49m\u001b[43mdataset_id\u001b[49m\u001b[43m,\u001b[49m\n\u001b[1;32m    135\u001b[0m \u001b[43m        \u001b[49m\u001b[43mtime_range\u001b[49m\u001b[43m,\u001b[49m\n\u001b[1;32m    136\u001b[0m \u001b[43m    \u001b[49m\u001b[43m)\u001b[49m\n",
      "File \u001b[0;32m~/Documents/GitHub/Spike_CSD_Analysis/.venv/lib/python3.12/site-packages/radiens/api/api_videre.py:123\u001b[0m, in \u001b[0;36mget_spikes_timestamps\u001b[0;34m(addr, dsource_id, time_range)\u001b[0m\n\u001b[1;32m    121\u001b[0m     raw \u001b[38;5;241m=\u001b[39m stub\u001b[38;5;241m.\u001b[39mSpikesGetRasterData(req)\n\u001b[1;32m    122\u001b[0m \u001b[38;5;28;01mexcept\u001b[39;00m grpc\u001b[38;5;241m.\u001b[39mRpcError \u001b[38;5;28;01mas\u001b[39;00m ex:\n\u001b[0;32m--> 123\u001b[0m     \u001b[43mhandle_grpc_error\u001b[49m\u001b[43m(\u001b[49m\u001b[43mex\u001b[49m\u001b[43m,\u001b[49m\u001b[43m \u001b[49m\u001b[43mClientType\u001b[49m\u001b[38;5;241;43m.\u001b[39;49m\u001b[43mVIDERE\u001b[49m\u001b[43m)\u001b[49m\n\u001b[1;32m    125\u001b[0m timestamps \u001b[38;5;241m=\u001b[39m np\u001b[38;5;241m.\u001b[39mempty_like(raw\u001b[38;5;241m.\u001b[39mspikeTimestamps, dtype\u001b[38;5;241m=\u001b[39mnp\u001b[38;5;241m.\u001b[39mfloat64)\n\u001b[1;32m    126\u001b[0m labels \u001b[38;5;241m=\u001b[39m np\u001b[38;5;241m.\u001b[39mempty_like(raw\u001b[38;5;241m.\u001b[39mspikeTimestamps, dtype\u001b[38;5;241m=\u001b[39mnp\u001b[38;5;241m.\u001b[39mint32)\n",
      "File \u001b[0;32m~/Documents/GitHub/Spike_CSD_Analysis/.venv/lib/python3.12/site-packages/radiens/exceptions/grpc_error.py:25\u001b[0m, in \u001b[0;36mhandle_grpc_error\u001b[0;34m(ex, client_type)\u001b[0m\n\u001b[1;32m     22\u001b[0m     \u001b[38;5;28;01mraise\u001b[39;00m RpcException(\u001b[38;5;124m\"\u001b[39m\u001b[38;5;124mData too big. Try smaller chunks\u001b[39m\u001b[38;5;124m\"\u001b[39m,\n\u001b[1;32m     23\u001b[0m                        status_code) \u001b[38;5;28;01mfrom\u001b[39;00m \u001b[38;5;28;01mNone\u001b[39;00m\n\u001b[1;32m     24\u001b[0m \u001b[38;5;28;01mif\u001b[39;00m status_code \u001b[38;5;241m==\u001b[39m StatusCode\u001b[38;5;241m.\u001b[39mUNKNOWN:\n\u001b[0;32m---> 25\u001b[0m     \u001b[38;5;28;01mraise\u001b[39;00m RpcException(\u001b[38;5;124m\"\u001b[39m\u001b[38;5;124mUnknown error: \u001b[39m\u001b[38;5;132;01m{}\u001b[39;00m\u001b[38;5;124m\"\u001b[39m\u001b[38;5;241m.\u001b[39mformat(ex\u001b[38;5;241m.\u001b[39mdetails()),\n\u001b[1;32m     26\u001b[0m                        status_code) \u001b[38;5;28;01mfrom\u001b[39;00m \u001b[38;5;28;01mNone\u001b[39;00m\n\u001b[1;32m     27\u001b[0m \u001b[38;5;28;01melse\u001b[39;00m:\n\u001b[1;32m     28\u001b[0m     \u001b[38;5;28;01mraise\u001b[39;00m RpcError(ex) \u001b[38;5;28;01mfrom\u001b[39;00m \u001b[38;5;28;01mNone\u001b[39;00m\n",
      "\u001b[0;31mRpcException\u001b[0m: Unknown error: spikesort_manager/GetSpikesort - unknown spikesortID: MKO02_07_Spikes_s1. Error code: 2"
     ]
    }
   ],
   "source": [
    "for name in names:\n",
    "    # set paths\n",
    "    data_path = \"/Users/irajmallina/Documents/GitHub/Spike_CSD_Analysis/Data\" #~/radix/data\n",
    "    cont_data_bname = name + \"_Spikes\"\n",
    "    spike_data_bname = name + \"_Spikes_s1\"\n",
    "    spike_data_save_fname = spike_data_bname + \".mat\"\n",
    "    spike_data_save_fpath = Path(\n",
    "        data_path, spike_data_save_fname).expanduser().resolve()\n",
    "\n",
    "\n",
    "    cont_data_path = Path(data_path,       cont_data_bname).expanduser().resolve()\n",
    "    spike_data_save_path = Path(data_path, spike_data_bname).expanduser().resolve()\n",
    "\n",
    "    # Create a VidereClient object\n",
    "    vc = VidereClient()\n",
    "\n",
    "    # link the client to continuous data\n",
    "    cont_meta = vc.link_data_file(cont_data_path, calc_metrics=False, force=False)\n",
    "\n",
    "\n",
    "    # get channel mapping\n",
    "    chan_idxs = cont_meta.channel_metadata.index(SignalType.AMP)\n",
    "    dset_to_ntv = dset_to_ntv_dict(chan_idxs)\n",
    "\n",
    "    file_dur = cont_meta.time_range.sec[1] - cont_meta.time_range.sec[0]\n",
    "    chunk_size_sec = 1\n",
    "    file_pos_sec = cont_meta.time_range.sec[0]\n",
    "\n",
    "    timestamps = np.array([], dtype=np.float64)\n",
    "    labels = np.array([], dtype=np.int32)\n",
    "    ntv_idxs = np.array([], dtype=np.int32)\n",
    "    print(\n",
    "        f\"Getting spikes from file {cont_data_bname} with time range {cont_meta.time_range.sec[0]} - {cont_meta.time_range.sec[1]} seconds\")\n",
    "    while file_pos_sec < cont_meta.time_range.sec[1]:\n",
    "        tr = make_time_range(\n",
    "            time_range=[file_pos_sec, file_pos_sec + chunk_size_sec], fs=cont_meta.TR.fs)\n",
    "        file_pos_sec += chunk_size_sec\n",
    "\n",
    "        # get spikes\n",
    "        spike_timestamps = vc.spikes().get_spike_timestamps(\n",
    "            spike_data_bname, time_range=tr)\n",
    "\n",
    "        # timestamps\n",
    "        ts_sec = np.array(list(map(lambda x: x/cont_meta.TR.fs,\n",
    "                            spike_timestamps[\"timestamps\"])), dtype=np.float64)  # convert to seconds\n",
    "        timestamps = np.concatenate((timestamps, ts_sec))\n",
    "\n",
    "        # labels\n",
    "        labels = np.concatenate((labels, spike_timestamps[\"labels\"]))\n",
    "\n",
    "        # ntv idxs\n",
    "        dset_idxs = spike_timestamps[\"dset_idxs\"]\n",
    "        new_ntv_idxs = np.array([dset_to_ntv[dset_idx]\n",
    "                                for dset_idx in dset_idxs], dtype=np.int32)\n",
    "        ntv_idxs = np.concatenate((ntv_idxs, new_ntv_idxs))\n",
    "\n",
    "\n",
    "    print(f\"Saving spike data to {spike_data_save_fpath}\")\n",
    "    # save the spike timestamps\n",
    "    savemat(spike_data_save_fpath, {\n",
    "        \"timestamps\": timestamps,\n",
    "        \"labels\": labels,\n",
    "        \"ntvIdxs\": ntv_idxs,\n",
    "    }, oned_as=\"column\")\n",
    "\n",
    "    print(\"Done!\")\n"
   ]
  }
 ],
 "metadata": {
  "kernelspec": {
   "display_name": ".venv",
   "language": "python",
   "name": "python3"
  },
  "language_info": {
   "codemirror_mode": {
    "name": "ipython",
    "version": 3
   },
   "file_extension": ".py",
   "mimetype": "text/x-python",
   "name": "python",
   "nbconvert_exporter": "python",
   "pygments_lexer": "ipython3",
   "version": "3.12.1"
  }
 },
 "nbformat": 4,
 "nbformat_minor": 2
}
