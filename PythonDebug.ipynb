{
 "cells": [
  {
   "cell_type": "code",
   "execution_count": null,
   "metadata": {},
   "outputs": [],
   "source": []
  },
  {
   "cell_type": "code",
   "execution_count": 3,
   "metadata": {},
   "outputs": [],
   "source": [
    "from pathlib import Path\n",
    "\n",
    "import numpy as np\n",
    "import tqdm\n",
    "from radiens.utils.enums import SignalType\n",
    "from radiens.utils.util import dset_to_ntv_dict, make_time_range\n",
    "from radiens.videre_client import VidereClient\n",
    "from scipy.io import savemat\n",
    "\n",
    "names = [ \"MKO02_01\"]"
   ]
  },
  {
   "cell_type": "code",
   "execution_count": 13,
   "metadata": {},
   "outputs": [],
   "source": [
    "for name in names:\n",
    "    # set paths\n",
    "    data_path = \"D:/Spike_CSD_Analysis/Data\" #~/radix/data\n",
    "    cont_data_bname = name + \"_Spikes\"\n",
    "    spike_data_bname = name + \"_Spikes_s1\"\n",
    "    spike_data_save_fname = spike_data_bname + \".mat\"\n",
    "    spike_data_save_fpath = Path(\n",
    "        data_path, spike_data_save_fname).expanduser().resolve()\n"
   ]
  },
  {
   "cell_type": "code",
   "execution_count": 14,
   "metadata": {},
   "outputs": [
    {
     "ename": "RpcException",
     "evalue": "Unknown error: failed to load time-series data source file MKO02_01_Spikes at /Users/irajmallina/Documents/GitHub/Spike_CSD_Analysis/D:/Spike_CSD_Analysis/Data : jsonmeta 1 : json meta read all bytes: opening file : open /Users/irajmallina/Documents/GitHub/Spike_CSD_Analysis/D:/Spike_CSD_Analysis/Data/MKO02_01_Spikes.xdat.json: no such file or directory. Error code: 2",
     "output_type": "error",
     "traceback": [
      "\u001b[0;31m---------------------------------------------------------------------------\u001b[0m",
      "\u001b[0;31mRpcException\u001b[0m                              Traceback (most recent call last)",
      "Cell \u001b[0;32mIn[14], line 8\u001b[0m\n\u001b[1;32m      5\u001b[0m vc \u001b[38;5;241m=\u001b[39m VidereClient()\n\u001b[1;32m      7\u001b[0m     \u001b[38;5;66;03m# link the client to continuous data\u001b[39;00m\n\u001b[0;32m----> 8\u001b[0m cont_meta \u001b[38;5;241m=\u001b[39m \u001b[43mvc\u001b[49m\u001b[38;5;241;43m.\u001b[39;49m\u001b[43mlink_data_file\u001b[49m\u001b[43m(\u001b[49m\u001b[43mcont_data_path\u001b[49m\u001b[43m,\u001b[49m\u001b[43m \u001b[49m\u001b[43mcalc_metrics\u001b[49m\u001b[38;5;241;43m=\u001b[39;49m\u001b[38;5;28;43;01mFalse\u001b[39;49;00m\u001b[43m,\u001b[49m\u001b[43m \u001b[49m\u001b[43mforce\u001b[49m\u001b[38;5;241;43m=\u001b[39;49m\u001b[38;5;28;43;01mFalse\u001b[39;49;00m\u001b[43m)\u001b[49m\n\u001b[1;32m     11\u001b[0m     \u001b[38;5;66;03m# get channel mapping\u001b[39;00m\n\u001b[1;32m     12\u001b[0m chan_idxs \u001b[38;5;241m=\u001b[39m cont_meta\u001b[38;5;241m.\u001b[39mchannel_metadata\u001b[38;5;241m.\u001b[39mindex(SignalType\u001b[38;5;241m.\u001b[39mAMP)\n",
      "File \u001b[0;32m~/Documents/GitHub/Spike_CSD_Analysis/.venv/lib/python3.12/site-packages/radiens/videre_client.py:127\u001b[0m, in \u001b[0;36mVidereClient.link_data_file\u001b[0;34m(self, path, calc_metrics, force, hub_name)\u001b[0m\n\u001b[1;32m    117\u001b[0m         _ftype \u001b[38;5;241m=\u001b[39m to_radiens_file_type(Path(_ext))\n\u001b[1;32m    119\u001b[0m req \u001b[38;5;241m=\u001b[39m datasource_pb2\u001b[38;5;241m.\u001b[39mDataSourceSetSaveRequest(\n\u001b[1;32m    120\u001b[0m     path\u001b[38;5;241m=\u001b[39m\u001b[38;5;28mstr\u001b[39m(path\u001b[38;5;241m.\u001b[39mparent),\n\u001b[1;32m    121\u001b[0m     baseName\u001b[38;5;241m=\u001b[39mpath\u001b[38;5;241m.\u001b[39mstem,\n\u001b[0;32m   (...)\u001b[0m\n\u001b[1;32m    125\u001b[0m     isForce\u001b[38;5;241m=\u001b[39mforce,\n\u001b[1;32m    126\u001b[0m )\n\u001b[0;32m--> 127\u001b[0m \u001b[38;5;28;01mreturn\u001b[39;00m \u001b[43mapi_videre\u001b[49m\u001b[38;5;241;43m.\u001b[39;49m\u001b[43mset_datasource\u001b[49m\u001b[43m(\u001b[49m\u001b[38;5;28;43mself\u001b[39;49m\u001b[38;5;241;43m.\u001b[39;49m\u001b[43m_server_address\u001b[49m\u001b[43m(\u001b[49m\u001b[43mhub_name\u001b[49m\u001b[43m,\u001b[49m\u001b[43m \u001b[49m\u001b[43mRadiensService\u001b[49m\u001b[38;5;241;43m.\u001b[39;49m\u001b[43mCORE\u001b[49m\u001b[43m)\u001b[49m\u001b[43m,\u001b[49m\u001b[43m \u001b[49m\u001b[43mreq\u001b[49m\u001b[43m)\u001b[49m\n",
      "File \u001b[0;32m~/Documents/GitHub/Spike_CSD_Analysis/.venv/lib/python3.12/site-packages/radiens/api/api_videre.py:23\u001b[0m, in \u001b[0;36mset_datasource\u001b[0;34m(addr, req)\u001b[0m\n\u001b[1;32m     21\u001b[0m     res \u001b[38;5;241m=\u001b[39m stub\u001b[38;5;241m.\u001b[39mSetDataSourceFromFile(req)\n\u001b[1;32m     22\u001b[0m \u001b[38;5;28;01mexcept\u001b[39;00m grpc\u001b[38;5;241m.\u001b[39mRpcError \u001b[38;5;28;01mas\u001b[39;00m ex:\n\u001b[0;32m---> 23\u001b[0m     \u001b[43mhandle_grpc_error\u001b[49m\u001b[43m(\u001b[49m\u001b[43mex\u001b[49m\u001b[43m,\u001b[49m\u001b[43m \u001b[49m\u001b[43mClientType\u001b[49m\u001b[38;5;241;43m.\u001b[39;49m\u001b[43mVIDERE\u001b[49m\u001b[43m)\u001b[49m\n\u001b[1;32m     24\u001b[0m \u001b[38;5;28;01mreturn\u001b[39;00m DatasetMetadata(res)\n",
      "File \u001b[0;32m~/Documents/GitHub/Spike_CSD_Analysis/.venv/lib/python3.12/site-packages/radiens/exceptions/grpc_error.py:25\u001b[0m, in \u001b[0;36mhandle_grpc_error\u001b[0;34m(ex, client_type)\u001b[0m\n\u001b[1;32m     22\u001b[0m     \u001b[38;5;28;01mraise\u001b[39;00m RpcException(\u001b[38;5;124m\"\u001b[39m\u001b[38;5;124mData too big. Try smaller chunks\u001b[39m\u001b[38;5;124m\"\u001b[39m,\n\u001b[1;32m     23\u001b[0m                        status_code) \u001b[38;5;28;01mfrom\u001b[39;00m \u001b[38;5;28;01mNone\u001b[39;00m\n\u001b[1;32m     24\u001b[0m \u001b[38;5;28;01mif\u001b[39;00m status_code \u001b[38;5;241m==\u001b[39m StatusCode\u001b[38;5;241m.\u001b[39mUNKNOWN:\n\u001b[0;32m---> 25\u001b[0m     \u001b[38;5;28;01mraise\u001b[39;00m RpcException(\u001b[38;5;124m\"\u001b[39m\u001b[38;5;124mUnknown error: \u001b[39m\u001b[38;5;132;01m{}\u001b[39;00m\u001b[38;5;124m\"\u001b[39m\u001b[38;5;241m.\u001b[39mformat(ex\u001b[38;5;241m.\u001b[39mdetails()),\n\u001b[1;32m     26\u001b[0m                        status_code) \u001b[38;5;28;01mfrom\u001b[39;00m \u001b[38;5;28;01mNone\u001b[39;00m\n\u001b[1;32m     27\u001b[0m \u001b[38;5;28;01melse\u001b[39;00m:\n\u001b[1;32m     28\u001b[0m     \u001b[38;5;28;01mraise\u001b[39;00m RpcError(ex) \u001b[38;5;28;01mfrom\u001b[39;00m \u001b[38;5;28;01mNone\u001b[39;00m\n",
      "\u001b[0;31mRpcException\u001b[0m: Unknown error: failed to load time-series data source file MKO02_01_Spikes at /Users/irajmallina/Documents/GitHub/Spike_CSD_Analysis/D:/Spike_CSD_Analysis/Data : jsonmeta 1 : json meta read all bytes: opening file : open /Users/irajmallina/Documents/GitHub/Spike_CSD_Analysis/D:/Spike_CSD_Analysis/Data/MKO02_01_Spikes.xdat.json: no such file or directory. Error code: 2"
     ]
    }
   ],
   "source": [
    "cont_data_path = Path(data_path,       cont_data_bname).expanduser().resolve()\n",
    "spike_data_save_path = Path(data_path, spike_data_bname).expanduser().resolve()\n",
    "\n",
    "    # Create a VidereClient object\n",
    "vc = VidereClient()\n",
    "\n",
    "    # link the client to continuous data\n",
    "cont_meta = vc.link_data_file(cont_data_path, calc_metrics=False, force=False)\n",
    "\n",
    "\n",
    "    # get channel mapping\n",
    "chan_idxs = cont_meta.channel_metadata.index(SignalType.AMP)\n",
    "dset_to_ntv = dset_to_ntv_dict(chan_idxs)\n",
    "\n",
    "file_dur = cont_meta.time_range.sec[1] - cont_meta.time_range.sec[0]\n",
    "chunk_size_sec = 1\n",
    "file_pos_sec = cont_meta.time_range.sec[0]\n"
   ]
  }
 ],
 "metadata": {
  "kernelspec": {
   "display_name": ".venv",
   "language": "python",
   "name": "python3"
  },
  "language_info": {
   "codemirror_mode": {
    "name": "ipython",
    "version": 3
   },
   "file_extension": ".py",
   "mimetype": "text/x-python",
   "name": "python",
   "nbconvert_exporter": "python",
   "pygments_lexer": "ipython3",
   "version": "3.12.1"
  }
 },
 "nbformat": 4,
 "nbformat_minor": 2
}
